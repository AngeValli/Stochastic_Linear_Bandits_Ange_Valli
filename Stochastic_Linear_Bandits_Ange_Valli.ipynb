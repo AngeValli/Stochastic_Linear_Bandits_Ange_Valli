{
 "cells": [
  {
   "cell_type": "markdown",
   "metadata": {
    "id": "OTm247C33wzj"
   },
   "source": [
    "<a href=\"https://www.kaggle.com/code/angevalli/stochastic-linear-bandits/notebook\" target=\"_blank\"><img align=\"left\" alt=\"Kaggle\" title=\"Open in Kaggle\" src=\"https://kaggle.com/static/images/open-in-kaggle.svg\"></a>\n",
    "<a href=\"https://drive.google.com/drive/folders/1QdD7SbYdJoq8D2hfU9b3Ld6XoGIOATwV?usp=sharing\" target=\"_blank\"><img align=\"left\" alt=\"Colab\" title=\"Open In Colab\" src=\"https://colab.research.google.com/assets/colab-badge.svg\"></a> "
   ]
  },
  {
   "cell_type": "markdown",
   "metadata": {
    "id": "9oVv8dXRAHWl"
   },
   "source": [
    "# Imports"
   ]
  },
  {
   "cell_type": "markdown",
   "metadata": {
    "id": "Qmo8KsiHAOyE"
   },
   "source": [
    "1) Mount Google Drive to access files"
   ]
  },
  {
   "cell_type": "code",
   "execution_count": null,
   "metadata": {
    "id": "jbYA1a42ALNz"
   },
   "outputs": [],
   "source": [
    "from google.colab import drive\n",
    "drive.mount('/content/drive')"
   ]
  },
  {
   "cell_type": "markdown",
   "metadata": {
    "id": "yKB61fDoAU1E"
   },
   "source": [
    "2) Add a shortcut from the shared folder _Stochastic_Linear_Bandit_ into your Google Drive folders"
   ]
  },
  {
   "cell_type": "markdown",
   "metadata": {
    "id": "0cs5_qqBAm15"
   },
   "source": [
    "3) Change current folder for the _Stochastic_Linear_Bandit_ folder (don't forget to change the file path if different)"
   ]
  },
  {
   "cell_type": "code",
   "execution_count": null,
   "metadata": {
    "id": "3Nzbe4yQA0Ju"
   },
   "outputs": [],
   "source": [
    "cd cd /content/drive/MyDrive/Stochastic_Linear_Bandit"
   ]
  },
  {
   "cell_type": "markdown",
   "metadata": {
    "id": "njfnT-sUER9J"
   },
   "source": [
    "# Lab on Stochastic Linear Bandits :\n",
    "\n",
    "We provide the environment to run a standard linear bandit experiment. The objective is to understand how to implement LinUCB and its variant LinTS."
   ]
  },
  {
   "cell_type": "code",
   "execution_count": null,
   "metadata": {
    "id": "ylZIq1mOJBr8"
   },
   "outputs": [],
   "source": [
    "import numpy as np\n",
    "from model import Environment, Agent\n",
    "from display import plot_regret\n",
    "\n",
    "\n",
    "from scipy.stats import bernoulli\n",
    "from math import log\n",
    "\n",
    "import random\n",
    "import sys\n",
    "import matplotlib.pyplot as plt\n",
    "%matplotlib inline\n",
    "\n",
    "import seaborn as sns"
   ]
  },
  {
   "cell_type": "markdown",
   "metadata": {
    "id": "HH892IKv95t3"
   },
   "source": [
    "# Action generators "
   ]
  },
  {
   "cell_type": "code",
   "execution_count": null,
   "metadata": {
    "id": "dKTTMwwB8rQS"
   },
   "outputs": [],
   "source": [
    "def randomActionsGenerator(K,d):\n",
    "  \"\"\"\n",
    "  K: int -- number of action vectors to be generated\n",
    "  d : int -- dimension of the action space\n",
    "  returns : an array of K vectors uniformly sampled on the unit sphere in R^d\n",
    "  \"\"\"\n",
    "\n",
    "  vecs = np.random.multivariate_normal(np.zeros(d), np.eye(d), size =K)\n",
    "  norms = np.linalg.norm(vecs,axis=1)\n",
    "  return vecs / norms[:,np.newaxis]"
   ]
  },
  {
   "cell_type": "code",
   "execution_count": null,
   "metadata": {
    "id": "oRMn0Zrx9rvX"
   },
   "outputs": [],
   "source": [
    "a = randomActionsGenerator(100,2)"
   ]
  },
  {
   "cell_type": "code",
   "execution_count": null,
   "metadata": {
    "colab": {
     "base_uri": "https://localhost:8080/",
     "height": 281
    },
    "id": "UeLSv2Vp9-75",
    "outputId": "9c280e08-d0a0-4172-e2a9-677f8967299c"
   },
   "outputs": [
    {
     "data": {
      "text/plain": [
       "<matplotlib.collections.PathCollection at 0x7fe49a29b518>"
      ]
     },
     "execution_count": 120,
     "metadata": {
      "tags": []
     },
     "output_type": "execute_result"
    },
    {
     "data": {
      "image/png": "[encoded data removed]",
      "text/plain": [
       "<Figure size 432x288 with 1 Axes>"
      ]
     },
     "metadata": {
      "needs_background": "light",
      "tags": []
     },
     "output_type": "display_data"
    }
   ],
   "source": [
    "plt.scatter(a[:,0],a[:,1])"
   ]
  },
  {
   "cell_type": "markdown",
   "metadata": {
    "id": "3phj8yu79_Rt"
   },
   "source": [
    "# Environment Class"
   ]
  },
  {
   "cell_type": "code",
   "execution_count": null,
   "metadata": {
    "id": "zKlD-rMUKumJ"
   },
   "outputs": [],
   "source": [
    "class LinearBandit(Environment):\n",
    "    \n",
    "    def __init__(self, theta, K, model='gaussian', var=1.):\n",
    "        \"\"\"\n",
    "        theta: d-dimensional vector (bounded) representing the hidden parameter\n",
    "        K: number of actions per round (random action vectors generated each time)\n",
    "        \"\"\"\n",
    "        self.model = model\n",
    "        self.d = np.size(theta)\n",
    "        self.theta = theta\n",
    "        self.K = K\n",
    "        self.var = var\n",
    "        self.current_action_set = np.zeros(self.d)\n",
    "        \n",
    "    def get_action_set(self):\n",
    "        self.current_action_set = randomActionsGenerator(self.K, self.d)\n",
    "        return self.current_action_set\n",
    "        \n",
    "    def get_reward(self, action):\n",
    "    \n",
    "        \"\"\" sample reward given action and the model of this bandit environment\n",
    "        action: d-dimensional vector (action chosen by the learner)\n",
    "        \"\"\"\n",
    "        mean = np.dot(action, self.theta)\n",
    "        if self.model == 'gaussian':\n",
    "            return np.random.normal(mean, scale=self.var)\n",
    "        else:#add bernoulli model option\n",
    "            raise NotImplementedError('only Gaussian rewards are implemented so far')\n",
    "            \n",
    "    def get_means(self):\n",
    "        return np.dot(self.current_action_set, self.theta)"
   ]
  },
  {
   "cell_type": "markdown",
   "metadata": {
    "id": "-_PSPRfU-CRy"
   },
   "source": [
    "# Linear Bandit Agents"
   ]
  },
  {
   "cell_type": "markdown",
   "metadata": {
    "id": "dkj2mqLrukBr"
   },
   "source": [
    "\n",
    "## LinUCB : Implementing optimism in $R^d$\n",
    "\n",
    "The actions are vectors in $R^d$, representing contextual features, and the environment is assumed to generate rewards according to some hidden linear function $f_\\theta(a) = a^\\top \\theta$. The goal of the learner is thus to estimate $\\theta$ while keeping a measure of the uncertainty in all the directions of the feature space. \n",
    "\n",
    "We first implement a LinUniform Agent that returns one of the action vectors of the action set, chosen uniformly at random. Then, we implement an LinEpsilonGreedy agent. The regret of the epsilon-greedy algorithm is linear. We can be lucky if we quickly find an optimal arm, but in general it is not the case. This gives a good basis. Our following algorithms aim at performing better than this one, and it gives a first result to compare with LinUCB and LinTS.\n",
    "\n",
    "We implement LinUCB, which means to compute UCBs for each arm of the current action set received from the environment, but with LinUCB the exploration bonus depends on the history of taken actions and received rewards.\n",
    "\n",
    "One key step is to invert the covariance matrix in order to compute the elliptical norm of each available action. Remark however that at round $t+1$, the new covariance matrix is very similar to the previous one at rount $t$. One way to optimize this step is to use the Sherman-Morrisson formula, as we are in the conditions where the covariance matrix is invertible and at time $t+1$ we just add the outer product $aa^\\top$ where $a$ is the last chosen arm at time $t$. This formula is simpler to compute as we do not have to inverse the covariance matrix but only use the inverse of covariance matrix at time $t$ to recover covariance matrix at time $t+1$.\n",
    "\n",
    "$$ V_{t+1} = V_t +  aa^\\top \\implies V_{t+1}^{-1} = (V_t +  aa^\\top)^{-1} = V_t^{-1} - \\frac{V_t^{-1} aa^\\top V_t^{-1}}{1 + a^\\top V_t^{-1} a} $$\n",
    "\n",
    "Sherman-Morisson formula is a direct consequence from the properties of the general linear group on square matrices : adding a little perturbation to an invertible matrix is still an invertible matrix.\n",
    "\n",
    "It is common practice to modify LinUCB by multiplying the confidence bonus of each arm by some hyperparameter $ 0<\\alpha <1 $. Adding this hyperparameter $\\alpha$ is a way to apply scalability over the UCB algorithm. Multiplying it to the confidence bonus is a way of penalizing the bonus part in the UCB formula, and so having $ 0<\\alpha <1 $ implies to have a greedier algorithm than original UCB.\n",
    "Behind this technique, we elevate the risk to compute a $\\theta$ being outside the high-probability confidence region, because this was ensured by the beta component. Having $\\alpha$ close to 0 means we rely more on the regularized least squares estimate of $\\theta$ to make the choice of the next arm.\n",
    "By discounting the bonus part, we carry less on the history of taken actions and received rewards, and in our case it is a good idea to do so as we always start by pulling a random arm at time $t=0$ and this can have a negative impact on the evolution of the algorithm. In practice, we see that a value of $\\alpha$ near 0.5 produces better results than no discount at all."
   ]
  },
  {
   "cell_type": "code",
   "execution_count": null,
   "metadata": {
    "id": "e9uEOaPwBAbA"
   },
   "outputs": [],
   "source": [
    "class LinUniform(Agent):\n",
    "  def __init__(self):\n",
    "    pass\n",
    "\n",
    "  def get_action(self, arms):\n",
    "    K,_ = arms.shape\n",
    "    return arms[np.random.choice(K)]\n",
    "\n",
    "  def receive_reward(self, chosen_arm, reward):\n",
    "    pass\n",
    "\n",
    "  def reset(self):\n",
    "    pass\n",
    "\n",
    "  @staticmethod\n",
    "  def name(self):\n",
    "    return 'Unif'\n",
    "\n",
    "from numpy.linalg import pinv\n",
    "\n",
    "class LinEpsilonGreedy(Agent):\n",
    "  def __init__(self, d, lambda_reg, epsilon=1e-1):\n",
    "    self.epsilon = epsilon\n",
    "    self.d = d\n",
    "    self.used_arms = []\n",
    "    self.lambda_reg = lambda_reg\n",
    "    self.V = np.zeros(self.d)\n",
    "    self.b = np.zeros(self.d)\n",
    "    self.t = 0\n",
    "\n",
    "  def get_action(self, arms):\n",
    "        #implement epsilon-greedy:\n",
    "        K, _ = arms.shape\n",
    "        \n",
    "        ## A l'initialisation, on choisit également un bras au hasard\n",
    "        if self.t == 0 or np.random.random() < self.epsilon :\n",
    "            chosen_arm = arms[np.random.randint(0,high=K)]\n",
    "\n",
    "        else:\n",
    "            self.V = (np.array([\n",
    "                    np.outer(ai,ai.transpose()) for ai in self.used_arms\n",
    "                    ]).sum(axis=0)\n",
    "                    + self.lambda_reg*np.eye(self.d))\n",
    "\n",
    "            theta_hat = pinv(self.V)@self.b\n",
    "            thetas = [theta_hat.transpose() @ arm for arm in arms]\n",
    "            chosen_arm = arms[np.argmax(thetas)]\n",
    "        \n",
    "        # Update memory\n",
    "        self.t += 1\n",
    "        self.used_arms.append(chosen_arm)\n",
    "\n",
    "        return chosen_arm\n",
    "\n",
    "  def receive_reward(self, chosen_arm, reward):\n",
    "    self.b += reward*chosen_arm\n",
    "\n",
    "  def reset(self):\n",
    "    self.t = 0\n",
    "\n",
    "  @staticmethod\n",
    "  def name(self):\n",
    "    return 'eps-greedy('+str(self.epsilon)+')'\n",
    "\n",
    "class LinUCB(Agent):\n",
    "\n",
    "  def __init__(self, T, d, delta, lambda_reg, alpha=1):\n",
    "    \"\"\"\n",
    "    T : Number of done actions for the calculation of thetas\n",
    "    d : Dimension of action\n",
    "    delta : Probability of theta non being within the high-confidence region\n",
    "    lambda_reg : Regularization parameter of theta norm\n",
    "    alpha : Scale factor of the exploration bonus\n",
    "    \"\"\"\n",
    "    self.T = T\n",
    "    self.d = d\n",
    "    self.delta = delta\n",
    "    self.lambda_reg = lambda_reg\n",
    "    self.b = np.zeros(self.d)\n",
    "    self.V = self.lambda_reg*np.zeros(self.d)\n",
    "    self.alpha = alpha\n",
    "    self.used_arms = []\n",
    "    self.UCBs = np.zeros(K)\n",
    "    # We compute the list of betas at initialisation\n",
    "    # so we don't have to compute it at each round\n",
    "    self.list_betas = [\n",
    "      (np.sqrt(self.lambda_reg)\n",
    "      + np.sqrt(2*np.log(1/self.delta)\n",
    "      + self.d*np.log((self.lambda_reg*self.d+t)/(self.lambda_reg*self.d)))\n",
    "      ) for t in range(self.T)]\n",
    "\n",
    "    self.reset()\n",
    "\n",
    "  def reset(self):\n",
    "    # reset all local variables that should not be kept when the experiment is restarted\n",
    "    self.t = 0\n",
    "    self.b = np.zeros(self.d)\n",
    "    self.V = self.lambda_reg*np.zeros(self.d)\n",
    "    self.used_arms = []\n",
    "\n",
    "  def get_action(self, arms):\n",
    "    \"\"\"\n",
    "        This function implements LinUCB\n",
    "        Input:\n",
    "        -------\n",
    "        arms : List of arms (d-dimensional vectors)\n",
    "\n",
    "        Output:\n",
    "        -------\n",
    "        chosen_arm : The pulled arm vector\n",
    "        \"\"\"\n",
    "\n",
    "    K, _ = arms.shape\n",
    "    if self.t == 0 :\n",
    "      chosen_arm = arms[np.random.randint(0,high=K)]\n",
    "    else :\n",
    "      self.UCBs = np.zeros(K)\n",
    "      \n",
    "      self.V = (np.array([\n",
    "        np.outer(ai,ai.transpose()) for ai in self.used_arms\n",
    "        ]).sum(axis=0)\n",
    "        + self.lambda_reg*np.eye(self.d)\n",
    "      )\n",
    "      theta_hat = pinv(self.V).dot(self.b)\n",
    "      self.UCBs = [\n",
    "        (theta_hat.transpose()@arms[i]\n",
    "        + self.alpha*self.list_betas[self.t]\n",
    "        * np.sqrt(arms[i].transpose()@pinv(self.V)@arms[i])\n",
    "        ) for i in range(K)]\n",
    "      chosen_arm=arms[np.argmax(self.UCBs)]\n",
    "\n",
    "    self.t += 1\n",
    "    self.used_arms.append(chosen_arm)\n",
    "    return chosen_arm   \n",
    "\n",
    "  def receive_reward(self, chosen_arm, reward):\n",
    "    self.b += reward*chosen_arm\n",
    "\n",
    "  def name(self):\n",
    "    return \"LinUCB_alpha=\" + str(self.alpha) + \"_lambda_reg=\" + str(self.lambda_reg)"
   ]
  },
  {
   "cell_type": "markdown",
   "metadata": {
    "id": "2GbE2VgFukBt"
   },
   "source": [
    "## LinTS : Taking the Bayesian way\n",
    "\n",
    "Thompson Sampling is a popular bayesian alternative to the standard optimistic bandit algorithms (see Chapter 36 of Bandit Algorithms). The key idea is to rely on Bayesian *samples* to get a proxy for the hidden parameter $\\theta$ of the problem instead of building high-probability confidence regions. Let us place a Gaussian prior with mean $\\mathbf{0}$ and covariance $\\sigma_0 I$ on $\\theta$. Given actions $A_1,\\ldots,A_t$ and rewards $Y_1,\\ldots,Y_t$, we can compute the expression of the posterior at the beginning of round $t+1$ by relying on the derivation of Bayesian Linear Regression, which gives us the posterior predictive distribution knowing the history of Actions and Rewards. We obtain that $\\theta$ is a multivariate Gaussian distribution.\n",
    "\n",
    "\n",
    "*Reference* : Slide 9 of CSC 411 Lecture 19 on Bayesian Linear Regression given by Roger Grosse, Amir-massoud Farahmand, and Juan Carrasquilla from University of Toronto."
   ]
  },
  {
   "cell_type": "code",
   "execution_count": null,
   "metadata": {
    "id": "Nd3yAYfadAIs"
   },
   "outputs": [],
   "source": [
    "class LinTS(Agent):\n",
    "\n",
    "  def __init__(self, T, d, delta, lambda_reg, sigma_0=1):\n",
    "    \"\"\"\n",
    "    T : Number of done actions for the calculation of thetas\n",
    "    d : Dimension of action\n",
    "    delta : Probability of theta non being within the high-confidence region\n",
    "    lambda_reg : Regularization parameter of theta norm\n",
    "    sigma_0 : Covariance parameter\n",
    "    \"\"\"\n",
    "    self.t = 0\n",
    "    self.d = d\n",
    "    self.b = np.zeros(self.d)\n",
    "    self.sigma_0 = sigma_0\n",
    "    self.cov_matrix_theta_prior = self.sigma_0*np.eye(self.d)\n",
    "    self.mu_posterior = 0\n",
    "    self.sigma_matrix = np.eye(self.d)\n",
    "    self.sigma_posterior = pinv(self.sigma_matrix)\n",
    "    self.sigma_environment = 1\n",
    "\n",
    "  def reset(self):\n",
    "    # reset all local variables that should not be kept when the experiment is restarted\n",
    "    self.cov_matrix_theta_prior = self.sigma_0*np.eye(self.d)\n",
    "    self.mu_posterior = 0\n",
    "    self.sigma_matrix = np.eye(self.d)\n",
    "    self.sigma_posterior = pinv(self.sigma_matrix)\n",
    "    self.t = 0\n",
    "    self.b = np.zeros(self.d)\n",
    "    \n",
    "  def get_action(self, arms):\n",
    "        \n",
    "    K, _ = arms.shape\n",
    "    if self.t == 0 :\n",
    "      chosen_arm = arms[np.random.randint(0,high=K)]\n",
    "    else :\n",
    "      thetas = np.random.multivariate_normal(\n",
    "          self.mu_posterior, self.sigma_posterior\n",
    "          )\n",
    "      chosen_arm = arms[np.argmax(arms@thetas)]\n",
    "    \n",
    "    self.t += 1\n",
    "    self.sigma_matrix += (self.sigma_environment ** (-2)\n",
    "        * np.outer(chosen_arm, chosen_arm)\n",
    "        + pinv(self.cov_matrix_theta_prior))\n",
    "    self.sigma_posterior = pinv(self.sigma_matrix)\n",
    "    self.mu_posterior = (self.sigma_environment ** (-2)\n",
    "        * self.sigma_posterior @ self.b)\n",
    "\n",
    "    return chosen_arm\n",
    "\n",
    "  def receive_reward(self, chosen_arm, reward):\n",
    "    self.b += reward*chosen_arm\n",
    "\n",
    "  def name(self):\n",
    "    return \"LinTS_sigma0=\" + str(self.sigma_0)"
   ]
  },
  {
   "cell_type": "markdown",
   "metadata": {
    "id": "bV-LRW2wukBv"
   },
   "source": [
    "The function play runs one path of regret for one agent. The function experiment runs all agents several (Nmc) times and returns all the logged data. Feel free to check the inputs and outputs required when you decide on the implementation of your own agents."
   ]
  },
  {
   "cell_type": "code",
   "execution_count": null,
   "metadata": {
    "id": "ChN6oiILAk2S"
   },
   "outputs": [],
   "source": [
    "def play(environment, agent, Nmc, T):\n",
    "    \n",
    "    data = np.zeros((Nmc, T))\n",
    "    \n",
    "    for n in range(Nmc):\n",
    "        agent.reset()\n",
    "        for t in range(T):\n",
    "            action_set = environment.get_action_set()\n",
    "            action = agent.get_action(action_set)\n",
    "            reward = environment.get_reward(action)\n",
    "            agent.receive_reward(action,reward)\n",
    "            \n",
    "            # compute instant regret\n",
    "            means = environment.get_means()\n",
    "            best_reward = np.max(means)\n",
    "            data[n,t]= best_reward - reward\n",
    "            \n",
    "    return agent.name(), data\n",
    "\n",
    "\n",
    "def experiment(environment, agents, Nmc, T):\n",
    "    \n",
    "    all_data = {}\n",
    "    \n",
    "    for agent in agents:\n",
    "        agent_id, regrets = play(environment, agent,Nmc, T)\n",
    "        \n",
    "        all_data[agent_id] = regrets\n",
    "        \n",
    "    return all_data"
   ]
  },
  {
   "cell_type": "markdown",
   "metadata": {
    "id": "AY1ZUny5I4Pl"
   },
   "source": [
    "# Example: LinUCB versus LinUniform"
   ]
  },
  {
   "cell_type": "code",
   "execution_count": null,
   "metadata": {
    "id": "0BoYONrQBAan"
   },
   "outputs": [],
   "source": [
    "# import time\n",
    "\n",
    "d = 2  # dimension\n",
    "K = 8  # number of arms\n",
    "\n",
    "# parametor vector \\theta, normalized :\n",
    "#theta = np.random.randint(2, size=d)\n",
    "#while theta.sum() == 0 :\n",
    "#  theta = np.random.randint(2, size=d)\n",
    "#theta = theta / np.linalg.norm(theta)\n",
    "theta = randomActionsGenerator(1,d)[0]\n",
    "\n",
    "T = 1000  # Finite Horizon\n",
    "N = 10  # Monte Carlo simulations\n",
    "\n",
    "delta = 0.1\n",
    "\n",
    "# save subsampled points for Figures\n",
    "Nsub = 100\n",
    "tsav = range(2, T, Nsub)\n",
    "\n",
    "#choice of quantile display\n",
    "q = 10"
   ]
  },
  {
   "cell_type": "code",
   "execution_count": null,
   "metadata": {
    "colab": {
     "base_uri": "https://localhost:8080/",
     "height": 279
    },
    "id": "MMQvc5fGxOzU",
    "outputId": "c6e6704a-f3d0-4447-85d9-4a95224fc92d"
   },
   "outputs": [
    {
     "data": {
      "image/png": "[encoded data removed]",
      "text/plain": [
       "<Figure size 432x288 with 1 Axes>"
      ]
     },
     "metadata": {
      "needs_background": "light",
      "tags": []
     },
     "output_type": "display_data"
    }
   ],
   "source": [
    "basicGaussianBandit = LinearBandit(theta, K)\n",
    "\n",
    "agent1 = LinUCB(T, d, delta, lambda_reg=1.)\n",
    "agent2 = LinUCB(T, d, delta, lambda_reg=5.)\n",
    "agent3 = LinUCB(T, d, delta, lambda_reg=0.5)\n",
    "agent4 = LinUniform()\n",
    "#agent5 = LinEpsilonGreedy(d, lambda_reg=1., epsilon=1e-1*2)\n",
    "\n",
    "# Add agent5 as well to visualise the LinEpsilonGreedy curves\n",
    "all_data = experiment(basicGaussianBandit, [agent1, agent2, agent3, agent4], Nmc=100, T=100)\n",
    "\n",
    "plot_regret(all_data)"
   ]
  },
  {
   "cell_type": "markdown",
   "metadata": {
    "id": "XyH05SnsukBy"
   },
   "source": [
    "LinUCB takes as input a parameter **$\\lambda_{reg}$** that controls the regularisation in the Least Squares Estimation. Choosing it is not easy and there is no clear rule, so we need to see experimentally if it impacts the results. One way us to run a few LinUCB with different **$\\lambda_{reg}$** values and plot the results.\n",
    "\n",
    "After having plotted multiple runs with **$\\lambda_{reg}$** parameter equals to **0.5**, **1** and **5**, we can assume that the importance of this regularization depends mostly on the behaviour of the algorithm at the beginning. If the value is too high, it means that the regularization is too strong so the update of $\\theta$ does not rely enough on the history of the actions taken. In our case, a standard value of **$\\lambda_{reg}$ = 1** is efficient enough to obtain a convenient result. To obtain statistically significant results with these highly stochastic algorithms, we need to execute enough runs for each of them (parameter `Nmc`). Hence, the error around the computed means is reduced."
   ]
  },
  {
   "cell_type": "markdown",
   "metadata": {
    "id": "-3D41VM3ukBz"
   },
   "source": [
    "# LinUCB with $\\alpha$ scaling\n",
    "\n"
   ]
  },
  {
   "cell_type": "code",
   "execution_count": null,
   "metadata": {
    "colab": {
     "base_uri": "https://localhost:8080/",
     "height": 279
    },
    "id": "T9SvXAi-ukB0",
    "outputId": "8afab510-410d-45c6-ebf4-0ed4d2f5c651"
   },
   "outputs": [
    {
     "data": {
      "image/png": "[encoded data removed]",
      "text/plain": [
       "<Figure size 432x288 with 1 Axes>"
      ]
     },
     "metadata": {
      "needs_background": "light",
      "tags": []
     },
     "output_type": "display_data"
    }
   ],
   "source": [
    "basicGaussianBandit = LinearBandit(theta, K)\n",
    "agent1 = LinUCB(T, d, delta, lambda_reg=1.)\n",
    "agent2 = LinUCB(T, d, delta, lambda_reg=1., alpha=0.5)\n",
    "\n",
    "all_data = experiment(basicGaussianBandit, [agent1, agent2], Nmc=100, T=100)\n",
    "\n",
    "plot_regret(all_data)"
   ]
  },
  {
   "cell_type": "markdown",
   "metadata": {
    "id": "79bY450TiOir"
   },
   "source": [
    "It shows that a smaller $\\alpha$ leads to more exploitation-oriented learning. We observe a similar phenomenon with the $\\epsilon$ in an $\\epsilon$-greedy algorithm: a very low value of epsilon favors exploitation. The first iterations do not favor these low values because the algorithm exploits non-optimal arms, which increases the regret. However, after 20 or 30 iterations for $\\alpha=0.5$, the curve is maintained rather low, whereas $\\alpha=1.0$ continues to explore a little more and increases the regret in this part. In a nutshell, we should favor a rather low value of $\\alpha$ for long-term computation. If we have very few steps (less than 10 for example), we would choose a higher $\\alpha$) to minimize the regret.\n"
   ]
  },
  {
   "cell_type": "markdown",
   "metadata": {
    "id": "hzk2q1ZGukB1"
   },
   "source": [
    "# LinTS versus LinUCB\n"
   ]
  },
  {
   "cell_type": "code",
   "execution_count": null,
   "metadata": {
    "colab": {
     "base_uri": "https://localhost:8080/",
     "height": 279
    },
    "id": "SdpGZPVyukB1",
    "outputId": "81a5ea28-cb19-4a0a-9128-cb519ee185ca"
   },
   "outputs": [
    {
     "data": {
      "image/png": "[encoded data removed]",
      "text/plain": [
       "<Figure size 432x288 with 1 Axes>"
      ]
     },
     "metadata": {
      "needs_background": "light",
      "tags": []
     },
     "output_type": "display_data"
    }
   ],
   "source": [
    "basicGaussianBandit = LinearBandit(theta, K)\n",
    "agent1 = LinUCB(T, d, delta, lambda_reg=1., alpha=.5)\n",
    "agent2 = LinTS(T, d, delta, lambda_reg=1., sigma_0=1)\n",
    "\n",
    "all_data = experiment(basicGaussianBandit, [agent1, agent2], Nmc=30, T=100)\n",
    "\n",
    "plot_regret(all_data)"
   ]
  },
  {
   "cell_type": "markdown",
   "metadata": {
    "id": "rv4YMQKnobFE"
   },
   "source": [
    "Globally, the results are similar, with LinUCB and a scaled bonus with $\\alpha=0.5$ result showing a little better results (so a lower regret). It could be confirmed by testing it on more examples (increasing `Nmc`), for these algorithms are still highly stochastic. Furthermore, we saw two different way to fine-tune the exploitation/exploration trade-off. On the one hand, in UCB algorithm, the exploration is tuned by a scale factor $\\alpha$. This method is mainly based on a frequentist point of view. On the other hand, Thompson-Sampling algorithm has a Bayesian approach and is tuned by a parameter $\\sigma_0$ and tends to explore more heterogeneously. In our bandit problem, we see that both approaches are efficient to obtain a low regret."
   ]
  }
 ],
 "metadata": {
  "colab": {
   "collapsed_sections": [],
   "name": "Stochastic_Linear_Bandits_Ange_Valli.ipynb",
   "provenance": []
  },
  "kernelspec": {
   "display_name": "Python 3 (ipykernel)",
   "language": "python",
   "name": "python3"
  },
  "language_info": {
   "codemirror_mode": {
    "name": "ipython",
    "version": 3
   },
   "file_extension": ".py",
   "mimetype": "text/x-python",
   "name": "python",
   "nbconvert_exporter": "python",
   "pygments_lexer": "ipython3",
   "version": "3.10.6"
  }
 },
 "nbformat": 4,
 "nbformat_minor": 1
}
